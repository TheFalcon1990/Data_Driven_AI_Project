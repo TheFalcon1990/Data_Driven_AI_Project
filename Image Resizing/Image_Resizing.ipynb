{
 "cells": [
  {
   "cell_type": "code",
   "execution_count": 5,
   "metadata": {},
   "outputs": [],
   "source": [
    "import cv2\n",
    "import numpy as np\n",
    "import matplotlib.pyplot as plt\n",
    "from os import walk\n",
    "import os\n",
    "import glob\n",
    "import tensorflow as tf"
   ]
  },
  {
   "cell_type": "code",
   "execution_count": 26,
   "metadata": {},
   "outputs": [
    {
     "name": "stdout",
     "output_type": "stream",
     "text": [
      "Resized and saved Stage 8 (1).jpg\n",
      "Resized and saved Stage 8 (10).jpg\n",
      "Resized and saved Stage 8 (2).jpg\n",
      "Resized and saved Stage 8 (3).jpg\n",
      "Resized and saved Stage 8 (4).jpg\n",
      "Resized and saved Stage 8 (5).jpg\n",
      "Resized and saved Stage 8 (6).jpg\n",
      "Resized and saved Stage 8 (7).jpg\n",
      "Resized and saved Stage 8 (8).jpg\n",
      "Resized and saved Stage 8 (9).jpg\n"
     ]
    }
   ],
   "source": [
    "# Define the path to your folder containing images\n",
    "folder_path = \"Stage 8_Dry thoroughly with clean towel or paper towel\"         # Replace with the path to your folder\n",
    "\n",
    "# Create a new folder to save the resized images\n",
    "output_folder = 'Resized_Images/Resized_Stage 8_Dry thoroughly with clean towel or paper towel'             # Replace with the path for saving resized images\n",
    "os.makedirs(output_folder, exist_ok=True)\n",
    "\n",
    "# Loop through each image in the folder\n",
    "for filename in os.listdir(folder_path):\n",
    "    if filename.endswith(('.jpg', '.jpeg', '.png')): \n",
    "       # Read the image\n",
    "        image_path = os.path.join(folder_path, filename)\n",
    "        image = cv2.imread(image_path)\n",
    "\n",
    "        # Resize the image to 150x150\n",
    "        resized_image = cv2.resize(image, (150, 150))\n",
    "\n",
    "        # Save the resized image in the output folder\n",
    "        output_path = os.path.join(output_folder, filename)\n",
    "        cv2.imwrite(output_path, resized_image)\n",
    "\n",
    "        print(f\"Resized and saved {filename}\")\n"
   ]
  }
 ],
 "metadata": {
  "kernelspec": {
   "display_name": "base",
   "language": "python",
   "name": "python3"
  },
  "language_info": {
   "codemirror_mode": {
    "name": "ipython",
    "version": 3
   },
   "file_extension": ".py",
   "mimetype": "text/x-python",
   "name": "python",
   "nbconvert_exporter": "python",
   "pygments_lexer": "ipython3",
   "version": "3.12.3"
  }
 },
 "nbformat": 4,
 "nbformat_minor": 2
}
